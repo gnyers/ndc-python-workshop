{
 "cells": [
  {
   "cell_type": "code",
   "execution_count": 1,
   "metadata": {},
   "outputs": [
    {
     "data": {
      "text/plain": [
       "['Mon', 'Tue', 'Wed']"
      ]
     },
     "execution_count": 1,
     "metadata": {},
     "output_type": "execute_result"
    }
   ],
   "source": [
    "l = 'Mon Tue Wed'.split()\n",
    "l"
   ]
  },
  {
   "cell_type": "code",
   "execution_count": 2,
   "metadata": {},
   "outputs": [
    {
     "name": "stdout",
     "output_type": "stream",
     "text": [
      "Mon\n",
      "Tue\n",
      "Wed\n"
     ]
    }
   ],
   "source": [
    "for e in l:\n",
    "    print(e)"
   ]
  },
  {
   "cell_type": "code",
   "execution_count": 5,
   "metadata": {},
   "outputs": [
    {
     "data": {
      "text/plain": [
       "<list_iterator at 0x7fd654762588>"
      ]
     },
     "execution_count": 5,
     "metadata": {},
     "output_type": "execute_result"
    }
   ],
   "source": [
    "l_i = iter(l)\n",
    "l_i"
   ]
  },
  {
   "cell_type": "code",
   "execution_count": 6,
   "metadata": {},
   "outputs": [],
   "source": [
    "class Addressbook:\n",
    "   def __init__(self, name):\n",
    "      self.name = name\n",
    "      self.content = []\n",
    "\n",
    "   def __iter__(self):\n",
    "      return iter(self.content)"
   ]
  },
  {
   "cell_type": "code",
   "execution_count": 7,
   "metadata": {},
   "outputs": [],
   "source": [
    "ab = Addressbook('Personal')\n",
    "ab.content.append('Homer')\n",
    "ab.content.append('Marge')\n",
    "ab.content.append('Bart')\n",
    "ab.content.append('Lisa')\n",
    "ab.content.append('Maggie')"
   ]
  },
  {
   "cell_type": "code",
   "execution_count": 8,
   "metadata": {},
   "outputs": [
    {
     "data": {
      "text/plain": [
       "__main__.Addressbook"
      ]
     },
     "execution_count": 8,
     "metadata": {},
     "output_type": "execute_result"
    }
   ],
   "source": [
    "type(ab)"
   ]
  },
  {
   "cell_type": "code",
   "execution_count": 9,
   "metadata": {},
   "outputs": [
    {
     "data": {
      "text/plain": [
       "['Homer', 'Marge', 'Bart', 'Lisa', 'Maggie']"
      ]
     },
     "execution_count": 9,
     "metadata": {},
     "output_type": "execute_result"
    }
   ],
   "source": [
    "ab.content "
   ]
  },
  {
   "cell_type": "code",
   "execution_count": 10,
   "metadata": {},
   "outputs": [],
   "source": [
    "class Addressbook2:\n",
    "   def __init__(self, name):\n",
    "      self.name = name\n",
    "      self.content = []\n"
   ]
  },
  {
   "cell_type": "code",
   "execution_count": 11,
   "metadata": {},
   "outputs": [],
   "source": [
    "ab2 = Addressbook2(name='not so good')\n",
    "ab2.content.append('Homer')\n",
    "ab2.content.append('Marge')\n",
    "ab2.content.append('Bart')"
   ]
  },
  {
   "cell_type": "code",
   "execution_count": 12,
   "metadata": {},
   "outputs": [
    {
     "data": {
      "text/plain": [
       "<__main__.Addressbook2 at 0x7fd654762c50>"
      ]
     },
     "execution_count": 12,
     "metadata": {},
     "output_type": "execute_result"
    }
   ],
   "source": [
    "ab2"
   ]
  },
  {
   "cell_type": "code",
   "execution_count": 13,
   "metadata": {},
   "outputs": [
    {
     "ename": "TypeError",
     "evalue": "'Addressbook2' object is not iterable",
     "output_type": "error",
     "traceback": [
      "\u001b[0;31m---------------------------------------------------------------------------\u001b[0m",
      "\u001b[0;31mTypeError\u001b[0m                                 Traceback (most recent call last)",
      "\u001b[0;32m<ipython-input-13-31f52433823f>\u001b[0m in \u001b[0;36m<module>\u001b[0;34m\u001b[0m\n\u001b[0;32m----> 1\u001b[0;31m \u001b[0;32mfor\u001b[0m \u001b[0me\u001b[0m \u001b[0;32min\u001b[0m \u001b[0mab2\u001b[0m\u001b[0;34m:\u001b[0m \u001b[0mprint\u001b[0m\u001b[0;34m(\u001b[0m\u001b[0me\u001b[0m\u001b[0;34m)\u001b[0m\u001b[0;34m\u001b[0m\u001b[0;34m\u001b[0m\u001b[0m\n\u001b[0m",
      "\u001b[0;31mTypeError\u001b[0m: 'Addressbook2' object is not iterable"
     ]
    }
   ],
   "source": [
    "for e in ab2: print(e)"
   ]
  },
  {
   "cell_type": "code",
   "execution_count": 14,
   "metadata": {},
   "outputs": [
    {
     "ename": "TypeError",
     "evalue": "'Addressbook2' object is not iterable",
     "output_type": "error",
     "traceback": [
      "\u001b[0;31m---------------------------------------------------------------------------\u001b[0m",
      "\u001b[0;31mTypeError\u001b[0m                                 Traceback (most recent call last)",
      "\u001b[0;32m<ipython-input-14-c48a8d60fd54>\u001b[0m in \u001b[0;36m<module>\u001b[0;34m\u001b[0m\n\u001b[0;32m----> 1\u001b[0;31m \u001b[0miter\u001b[0m\u001b[0;34m(\u001b[0m\u001b[0mab2\u001b[0m\u001b[0;34m)\u001b[0m\u001b[0;34m\u001b[0m\u001b[0;34m\u001b[0m\u001b[0m\n\u001b[0m",
      "\u001b[0;31mTypeError\u001b[0m: 'Addressbook2' object is not iterable"
     ]
    }
   ],
   "source": [
    "iter(ab2)"
   ]
  },
  {
   "cell_type": "code",
   "execution_count": 15,
   "metadata": {},
   "outputs": [],
   "source": [
    "class Addressbook:\n",
    "   def __init__(self, name):\n",
    "      self.name = name\n",
    "      self.content = []\n",
    "\n",
    "   def __iter__(self):\n",
    "      return iter(self.content)\n",
    "ab = Addressbook('Personal')\n",
    "ab.content.append('Homer')\n",
    "ab.content.append('Marge')\n",
    "ab.content.append('Bart')\n",
    "ab.content.append('Lisa')\n",
    "ab.content.append('Maggie')"
   ]
  },
  {
   "cell_type": "code",
   "execution_count": 16,
   "metadata": {},
   "outputs": [
    {
     "name": "stdout",
     "output_type": "stream",
     "text": [
      "Homer\n",
      "Marge\n",
      "Bart\n",
      "Lisa\n",
      "Maggie\n"
     ]
    }
   ],
   "source": [
    "for e in ab: print(e)"
   ]
  },
  {
   "cell_type": "code",
   "execution_count": 18,
   "metadata": {},
   "outputs": [
    {
     "data": {
      "text/plain": [
       "[2, 3, 5, 32, 42, 44]"
      ]
     },
     "execution_count": 18,
     "metadata": {},
     "output_type": "execute_result"
    }
   ],
   "source": [
    "sorted( [ 3,2,42,5,44,32])"
   ]
  },
  {
   "cell_type": "code",
   "execution_count": 19,
   "metadata": {},
   "outputs": [
    {
     "data": {
      "text/plain": [
       "['Bart', 'Homer', 'Lisa', 'Maggie', 'Marge']"
      ]
     },
     "execution_count": 19,
     "metadata": {},
     "output_type": "execute_result"
    }
   ],
   "source": [
    "sorted(ab)"
   ]
  },
  {
   "cell_type": "code",
   "execution_count": 20,
   "metadata": {},
   "outputs": [
    {
     "data": {
      "text/plain": [
       "'Marge'"
      ]
     },
     "execution_count": 20,
     "metadata": {},
     "output_type": "execute_result"
    }
   ],
   "source": [
    "max(ab)"
   ]
  },
  {
   "cell_type": "code",
   "execution_count": 21,
   "metadata": {},
   "outputs": [
    {
     "ename": "TypeError",
     "evalue": "object of type 'Addressbook' has no len()",
     "output_type": "error",
     "traceback": [
      "\u001b[0;31m---------------------------------------------------------------------------\u001b[0m",
      "\u001b[0;31mTypeError\u001b[0m                                 Traceback (most recent call last)",
      "\u001b[0;32m<ipython-input-21-ce793226e8c0>\u001b[0m in \u001b[0;36m<module>\u001b[0;34m\u001b[0m\n\u001b[0;32m----> 1\u001b[0;31m \u001b[0mlen\u001b[0m\u001b[0;34m(\u001b[0m\u001b[0mab\u001b[0m\u001b[0;34m)\u001b[0m\u001b[0;34m\u001b[0m\u001b[0;34m\u001b[0m\u001b[0m\n\u001b[0m",
      "\u001b[0;31mTypeError\u001b[0m: object of type 'Addressbook' has no len()"
     ]
    }
   ],
   "source": [
    "len(ab)"
   ]
  },
  {
   "cell_type": "code",
   "execution_count": 26,
   "metadata": {},
   "outputs": [],
   "source": [
    "class Addressbook:\n",
    "   def __init__(self, name):\n",
    "      self.name = name\n",
    "      self.content = []\n",
    "\n",
    "   def __iter__(self):\n",
    "      return iter(self.content)\n",
    "\n",
    "   def __len__(self):\n",
    "      return len(self.content)\n",
    "\n",
    "class Contact:\n",
    "    def __init__(self, name, phone='', email=''):\n",
    "        self.name = name\n",
    "        self.phone = phone\n",
    "        self.email = email\n",
    "    \n",
    "ab = Addressbook('Personal')\n",
    "ab.content.append(Contact('Homer', phone=\"+31-6-1333-3434\"))\n",
    "ab.content.append(Contact('Marge', email='marge@example.com'))\n",
    "ab.content.append(Contact('Bart'))\n",
    "ab.content.append(Contact('Lisa'))\n",
    "ab.content.append(Contact('Maggie'))\n"
   ]
  },
  {
   "cell_type": "code",
   "execution_count": 30,
   "metadata": {},
   "outputs": [
    {
     "name": "stdout",
     "output_type": "stream",
     "text": [
      "Homer +31-6-1333-3434\n",
      "Marge \n",
      "Bart \n",
      "Lisa \n",
      "Maggie <__main__.Contact object at 0x7fd6546f8630>\n"
     ]
    }
   ],
   "source": [
    "for e in ab: print(e.name, e.phone)"
   ]
  },
  {
   "cell_type": "code",
   "execution_count": 31,
   "metadata": {},
   "outputs": [],
   "source": [
    "l = [ 1,3,4]\n",
    "d = { 'hello': 'hoi', 'Good Bye': 'Tot ziens'}\n"
   ]
  },
  {
   "cell_type": "code",
   "execution_count": 32,
   "metadata": {},
   "outputs": [
    {
     "data": {
      "text/plain": [
       "1"
      ]
     },
     "execution_count": 32,
     "metadata": {},
     "output_type": "execute_result"
    }
   ],
   "source": [
    "l[0]"
   ]
  },
  {
   "cell_type": "code",
   "execution_count": 33,
   "metadata": {},
   "outputs": [
    {
     "data": {
      "text/plain": [
       "'hoi'"
      ]
     },
     "execution_count": 33,
     "metadata": {},
     "output_type": "execute_result"
    }
   ],
   "source": [
    "d['hello']"
   ]
  },
  {
   "cell_type": "code",
   "execution_count": 34,
   "metadata": {},
   "outputs": [
    {
     "data": {
      "text/plain": [
       "<__main__.Addressbook at 0x7fd6546f84a8>"
      ]
     },
     "execution_count": 34,
     "metadata": {},
     "output_type": "execute_result"
    }
   ],
   "source": [
    "ab"
   ]
  },
  {
   "cell_type": "code",
   "execution_count": 35,
   "metadata": {},
   "outputs": [
    {
     "data": {
      "text/plain": [
       "5"
      ]
     },
     "execution_count": 35,
     "metadata": {},
     "output_type": "execute_result"
    }
   ],
   "source": [
    "len(ab)"
   ]
  },
  {
   "cell_type": "code",
   "execution_count": 36,
   "metadata": {},
   "outputs": [
    {
     "ename": "TypeError",
     "evalue": "'Addressbook' object does not support indexing",
     "output_type": "error",
     "traceback": [
      "\u001b[0;31m---------------------------------------------------------------------------\u001b[0m",
      "\u001b[0;31mTypeError\u001b[0m                                 Traceback (most recent call last)",
      "\u001b[0;32m<ipython-input-36-e5b8256364dc>\u001b[0m in \u001b[0;36m<module>\u001b[0;34m\u001b[0m\n\u001b[0;32m----> 1\u001b[0;31m \u001b[0mab\u001b[0m\u001b[0;34m[\u001b[0m\u001b[0;36m0\u001b[0m\u001b[0;34m]\u001b[0m\u001b[0;34m\u001b[0m\u001b[0;34m\u001b[0m\u001b[0m\n\u001b[0m",
      "\u001b[0;31mTypeError\u001b[0m: 'Addressbook' object does not support indexing"
     ]
    }
   ],
   "source": [
    "ab[0]"
   ]
  },
  {
   "cell_type": "code",
   "execution_count": 37,
   "metadata": {},
   "outputs": [],
   "source": [
    "class Addressbook:\n",
    "   def __init__(self, name):\n",
    "      self.name = name\n",
    "      self.content = []\n",
    "\n",
    "   def __iter__(self):\n",
    "      return iter(self.content)\n",
    "\n",
    "   def __len__(self):\n",
    "      return len(self.content)\n",
    "\n",
    "   def __getitem__(self, what):\n",
    "      return self.content.__getitem__(what)\n",
    "\n",
    "    \n",
    "ab = Addressbook('Personal')\n",
    "ab.content.append(Contact('Homer', phone=\"+31-6-1333-3434\"))\n",
    "ab.content.append(Contact('Marge', email='marge@example.com'))\n",
    "ab.content.append(Contact('Bart'))\n",
    "ab.content.append(Contact('Lisa'))\n",
    "ab.content.append(Contact('Maggie'))"
   ]
  },
  {
   "cell_type": "code",
   "execution_count": 39,
   "metadata": {},
   "outputs": [
    {
     "data": {
      "text/plain": [
       "'Homer'"
      ]
     },
     "execution_count": 39,
     "metadata": {},
     "output_type": "execute_result"
    }
   ],
   "source": [
    "ab[0].name"
   ]
  },
  {
   "cell_type": "code",
   "execution_count": 41,
   "metadata": {},
   "outputs": [
    {
     "data": {
      "text/plain": [
       "'Lisa'"
      ]
     },
     "execution_count": 41,
     "metadata": {},
     "output_type": "execute_result"
    }
   ],
   "source": [
    "ab[3].name"
   ]
  },
  {
   "cell_type": "code",
   "execution_count": 42,
   "metadata": {},
   "outputs": [
    {
     "data": {
      "text/plain": [
       "[<__main__.Contact at 0x7fd6546f8e10>,\n",
       " <__main__.Contact at 0x7fd6546f8e48>,\n",
       " <__main__.Contact at 0x7fd6546f8e80>]"
      ]
     },
     "execution_count": 42,
     "metadata": {},
     "output_type": "execute_result"
    }
   ],
   "source": [
    "ab[1:4]"
   ]
  },
  {
   "cell_type": "code",
   "execution_count": 44,
   "metadata": {},
   "outputs": [
    {
     "data": {
      "text/plain": [
       "[4, 4, 5]"
      ]
     },
     "execution_count": 44,
     "metadata": {},
     "output_type": "execute_result"
    }
   ],
   "source": [
    "l=[1,3,4,4,5,4,5,6]\n",
    "l[2: 5]"
   ]
  },
  {
   "cell_type": "code",
   "execution_count": 45,
   "metadata": {},
   "outputs": [
    {
     "ename": "TypeError",
     "evalue": "list indices must be integers or slices, not str",
     "output_type": "error",
     "traceback": [
      "\u001b[0;31m---------------------------------------------------------------------------\u001b[0m",
      "\u001b[0;31mTypeError\u001b[0m                                 Traceback (most recent call last)",
      "\u001b[0;32m<ipython-input-45-0b1fbe59a088>\u001b[0m in \u001b[0;36m<module>\u001b[0;34m\u001b[0m\n\u001b[0;32m----> 1\u001b[0;31m \u001b[0mab\u001b[0m\u001b[0;34m[\u001b[0m\u001b[0;34m\"M\"\u001b[0m\u001b[0;34m]\u001b[0m\u001b[0;34m\u001b[0m\u001b[0;34m\u001b[0m\u001b[0m\n\u001b[0m",
      "\u001b[0;32m<ipython-input-37-85717fce8086>\u001b[0m in \u001b[0;36m__getitem__\u001b[0;34m(self, what)\u001b[0m\n\u001b[1;32m     11\u001b[0m \u001b[0;34m\u001b[0m\u001b[0m\n\u001b[1;32m     12\u001b[0m    \u001b[0;32mdef\u001b[0m \u001b[0m__getitem__\u001b[0m\u001b[0;34m(\u001b[0m\u001b[0mself\u001b[0m\u001b[0;34m,\u001b[0m \u001b[0mwhat\u001b[0m\u001b[0;34m)\u001b[0m\u001b[0;34m:\u001b[0m\u001b[0;34m\u001b[0m\u001b[0;34m\u001b[0m\u001b[0m\n\u001b[0;32m---> 13\u001b[0;31m       \u001b[0;32mreturn\u001b[0m \u001b[0mself\u001b[0m\u001b[0;34m.\u001b[0m\u001b[0mcontent\u001b[0m\u001b[0;34m.\u001b[0m\u001b[0m__getitem__\u001b[0m\u001b[0;34m(\u001b[0m\u001b[0mwhat\u001b[0m\u001b[0;34m)\u001b[0m\u001b[0;34m\u001b[0m\u001b[0;34m\u001b[0m\u001b[0m\n\u001b[0m\u001b[1;32m     14\u001b[0m \u001b[0;34m\u001b[0m\u001b[0m\n\u001b[1;32m     15\u001b[0m \u001b[0;34m\u001b[0m\u001b[0m\n",
      "\u001b[0;31mTypeError\u001b[0m: list indices must be integers or slices, not str"
     ]
    }
   ],
   "source": [
    "ab[\"M\"]"
   ]
  },
  {
   "cell_type": "code",
   "execution_count": 46,
   "metadata": {},
   "outputs": [],
   "source": [
    "content = ['Maggie', 'Lisa', 'Bart', 'Marge', 'Homer']"
   ]
  },
  {
   "cell_type": "code",
   "execution_count": 49,
   "metadata": {},
   "outputs": [
    {
     "data": {
      "text/plain": [
       "['Maggie', 'Marge']"
      ]
     },
     "execution_count": 49,
     "metadata": {},
     "output_type": "execute_result"
    }
   ],
   "source": [
    "[ e   for e in content if e.find('M') != -1 ]"
   ]
  },
  {
   "cell_type": "code",
   "execution_count": 52,
   "metadata": {},
   "outputs": [
    {
     "data": {
      "text/plain": [
       "-1"
      ]
     },
     "execution_count": 52,
     "metadata": {},
     "output_type": "execute_result"
    }
   ],
   "source": [
    "'Maggie'.find('U')"
   ]
  },
  {
   "cell_type": "code",
   "execution_count": 53,
   "metadata": {},
   "outputs": [],
   "source": [
    "class Addressbook:\n",
    "   def __init__(self, name):\n",
    "      self.name = name\n",
    "      self.content = []\n",
    "\n",
    "   def __iter__(self):\n",
    "      return iter(self.content)\n",
    "\n",
    "   def __len__(self):\n",
    "      return len(self.content)\n",
    "\n",
    "   def __getitem__(self, what):\n",
    "      if isinstance(what, (int, slice)):\n",
    "          return self.content.__getitem__(what)\n",
    "      elif isinstance(what, str):\n",
    "          return [ e for e in self.content if e.name.find(what) != -1  ]\n",
    "    \n",
    "ab = Addressbook('Personal')\n",
    "ab.content.append(Contact('Homer', phone=\"+31-6-1333-3434\"))\n",
    "ab.content.append(Contact('Marge', email='marge@example.com'))\n",
    "ab.content.append(Contact('Bart'))\n",
    "ab.content.append(Contact('Lisa'))\n",
    "ab.content.append(Contact('Maggie'))"
   ]
  },
  {
   "cell_type": "code",
   "execution_count": 55,
   "metadata": {},
   "outputs": [
    {
     "name": "stdout",
     "output_type": "stream",
     "text": [
      "Marge\n",
      "Maggie\n"
     ]
    }
   ],
   "source": [
    "for e in ab['M'] : print(e.name)"
   ]
  },
  {
   "cell_type": "markdown",
   "metadata": {},
   "source": [
    "## Ex01\n",
    "\n",
    "With the following specifications:\n",
    "\n",
    "- Data attributes:\n",
    "\n",
    "  - ``owner``: the person who's the owner of this stash\n",
    "  - ``elements``: a collection of Bookmarks\n",
    "\n",
    "- Make sure that it is possible to process all ``Bookmark``s objects using the\n",
    "  ``map()`` function.\n",
    "- The ``len()`` function must be able to read the number of elements\n",
    "- Implement the required methods that are required in the \"Example usage\"\n",
    "  demo.\n",
    "\n",
    "\n",
    "**Example usage**:\n",
    "\n",
    "```python\n",
    "\n",
    "   >>> bm = BookmarkStash(name=\"Work\")\n",
    "   >>> bm.add('https://python.org')\n",
    "   >>> bm.add('https://w3.org')\n",
    "   >>> bm.add('https://pypi.org')\n",
    "   >>> print(bm)\n",
    "   'BookmarkStash with 2 objects'\n",
    "```\n",
    "\n",
    "**Hint**: you'll need to implement the following methods: ``.__str__``,\n",
    "``.__iter()``, ``.__len__()``\n"
   ]
  },
  {
   "cell_type": "code",
   "execution_count": 61,
   "metadata": {},
   "outputs": [
    {
     "name": "stdout",
     "output_type": "stream",
     "text": [
      "Work (3)\n"
     ]
    }
   ],
   "source": [
    "class BookmarkStash:\n",
    "    def __init__(self, name):\n",
    "        self.name = name\n",
    "        self.content = []\n",
    "        \n",
    "    def add(self, url):\n",
    "        self.content.append(url)\n",
    "        \n",
    "    def __iter__(self):\n",
    "        return iter(self.content)\n",
    "    \n",
    "    def __str__(self):\n",
    "        return '{} ({})'.format(self.name, len(self.content))\n",
    "    \n",
    "    def __len__(self):\n",
    "        return len(self.content)\n",
    "\n",
    "bm = BookmarkStash(name=\"Work\")\n",
    "bm = BookmarkStash(name=\"Work\")\n",
    "bm.add('https://python.org')\n",
    "bm.add('https://w3.org')\n",
    "bm.add('https://pypi.org')\n",
    "print(bm)"
   ]
  },
  {
   "cell_type": "code",
   "execution_count": 62,
   "metadata": {},
   "outputs": [
    {
     "data": {
      "text/plain": [
       "3"
      ]
     },
     "execution_count": 62,
     "metadata": {},
     "output_type": "execute_result"
    }
   ],
   "source": [
    "len(bm)"
   ]
  },
  {
   "cell_type": "markdown",
   "metadata": {},
   "source": [
    "# Ex02\n",
    "\n",
    "Ex02: (✪✪) Extend the BookmarkStash\n",
    "\n",
    "as follows:\n",
    "\n",
    "- the container should only hold unique URLs, so no duplicates\n",
    "- (Optional) when listing the content, the order of the listing should retain the order in which the Bookmarks have been added to the BookmarkStash\n",
    "- implement a search feature using the element lookup operator, i.e.: stash['python'] should return all Bookmarks, whose URL contains the word python.\n",
    "\n"
   ]
  },
  {
   "cell_type": "code",
   "execution_count": 71,
   "metadata": {},
   "outputs": [
    {
     "name": "stdout",
     "output_type": "stream",
     "text": [
      "Work (3)\n"
     ]
    }
   ],
   "source": [
    "class BookmarkStash:\n",
    "    def __init__(self, name):\n",
    "        self.name = name\n",
    "        self.content = []\n",
    "         \n",
    "    def add(self, url):\n",
    "        if url in self.content:\n",
    "            raise ValueError('Already there: {}'.format(url))\n",
    "        else:\n",
    "            self.content.append(url)\n",
    "        \n",
    "    def __iter__(self):\n",
    "        return iter(self.content)\n",
    "    \n",
    "    def __str__(self):\n",
    "        return '{} ({})'.format(self.name, len(self.content))\n",
    "    \n",
    "    def __len__(self):\n",
    "        return len(self.content)\n",
    "    \n",
    "    def __getitem__(self, what):\n",
    "        if isinstance(what, (int, slice)):\n",
    "            return self.content.__getitem__(what)\n",
    "        elif isinstance(what, str):\n",
    "            return [ e for e in self.content if e.find(what) != -1  ]\n",
    "    \n",
    "bm = BookmarkStash(name=\"Work\")\n",
    "bm = BookmarkStash(name=\"Work\")\n",
    "bm.add('https://python.org')\n",
    "bm.add('https://w3.org')\n",
    "bm.add('https://pypi.org')\n",
    "print(bm)"
   ]
  },
  {
   "cell_type": "code",
   "execution_count": 72,
   "metadata": {},
   "outputs": [
    {
     "data": {
      "text/plain": [
       "'https://python.org'"
      ]
     },
     "execution_count": 72,
     "metadata": {},
     "output_type": "execute_result"
    }
   ],
   "source": [
    "bm[0]"
   ]
  },
  {
   "cell_type": "code",
   "execution_count": 73,
   "metadata": {},
   "outputs": [
    {
     "data": {
      "text/plain": [
       "['https://python.org', 'https://w3.org']"
      ]
     },
     "execution_count": 73,
     "metadata": {},
     "output_type": "execute_result"
    }
   ],
   "source": [
    "bm[0:2]"
   ]
  },
  {
   "cell_type": "code",
   "execution_count": 74,
   "metadata": {},
   "outputs": [
    {
     "data": {
      "text/plain": [
       "['https://python.org', 'https://w3.org', 'https://pypi.org']"
      ]
     },
     "execution_count": 74,
     "metadata": {},
     "output_type": "execute_result"
    }
   ],
   "source": [
    "bm['org']"
   ]
  },
  {
   "cell_type": "markdown",
   "metadata": {},
   "source": [
    "## Ex03: (✪✪✪) Implement the Bookmark class\n",
    "\n",
    "With the following specifications:\n",
    "\n",
    "- It should store the following information: ``url``, the ``date`` when it was added and a list of keywords\n",
    "- Make sure that the ``BookmarkStash`` class provides for a search method to find all ``Bookmark`` objects that are related to a keyword\n"
   ]
  },
  {
   "cell_type": "code",
   "execution_count": 81,
   "metadata": {},
   "outputs": [
    {
     "name": "stdout",
     "output_type": "stream",
     "text": [
      "Work (3)\n"
     ]
    }
   ],
   "source": [
    "import time\n",
    "\n",
    "# Ex03\n",
    "class Bookmark:\n",
    "    def __init__(self, url):\n",
    "        self.url = url\n",
    "        self.date = time.localtime()  # <<<<< get the current time and date\n",
    "\n",
    "    def __str__(self):     # 2nd bullet of Ex03\n",
    "        return self.url\n",
    "    \n",
    "    def __repr__(self):\n",
    "        return 'Bookmark(\"{}\")'.format(self.url)\n",
    "    \n",
    "# to support searching by the URL value we do a simple change\n",
    "# in the BookmarkStash.__getitem__() method (see line 43-44)\n",
    "\n",
    "class BookmarkStash:\n",
    "    def __init__(self, name):\n",
    "        self.name = name\n",
    "        self.content = []\n",
    "         \n",
    "    def add(self, bookmark):\n",
    "        if not(isinstance(url, Bookmark) and bookmark.url in self.content):\n",
    "            # we want only Bookmarks and no duplicates\n",
    "            raise ValueError('Already there: {}'.format(url))\n",
    "        else:\n",
    "            self.content.append(url)\n",
    "        \n",
    "    def __iter__(self):\n",
    "        return iter(self.content)\n",
    "    \n",
    "    def __str__(self):\n",
    "        return '{} ({})'.format(self.name, len(self.content))\n",
    "    \n",
    "    def __len__(self):\n",
    "        return len(self.content)\n",
    "    \n",
    "    def __getitem__(self, what):\n",
    "        if isinstance(what, (int, slice)):\n",
    "            return self.content.__getitem__(what)\n",
    "        elif isinstance(what, str):\n",
    "            # required change for 2nd bullet Ex03---v\n",
    "            return [ e for e in self.content if str(e).find(what) != -1  ]\n",
    "    \n",
    "bm = BookmarkStash(name=\"Work\")\n",
    "bm.add(Bookmark('https://python.org'))\n",
    "bm.add(Bookmark('https://w3.org'))\n",
    "bm.add(Bookmark('https://pypi.org'))\n",
    "print(bm)\n"
   ]
  },
  {
   "cell_type": "code",
   "execution_count": 82,
   "metadata": {},
   "outputs": [
    {
     "data": {
      "text/plain": [
       "Bookmark(\"https://python.org\")"
      ]
     },
     "execution_count": 82,
     "metadata": {},
     "output_type": "execute_result"
    }
   ],
   "source": [
    "bm[0]"
   ]
  },
  {
   "cell_type": "code",
   "execution_count": 84,
   "metadata": {},
   "outputs": [
    {
     "data": {
      "text/plain": [
       "[Bookmark(\"https://python.org\"), Bookmark(\"https://w3.org\")]"
      ]
     },
     "execution_count": 84,
     "metadata": {},
     "output_type": "execute_result"
    }
   ],
   "source": [
    "bm[:2]"
   ]
  },
  {
   "cell_type": "code",
   "execution_count": 85,
   "metadata": {},
   "outputs": [
    {
     "data": {
      "text/plain": [
       "[Bookmark(\"https://python.org\")]"
      ]
     },
     "execution_count": 85,
     "metadata": {},
     "output_type": "execute_result"
    }
   ],
   "source": [
    "bm['python']"
   ]
  },
  {
   "cell_type": "code",
   "execution_count": 87,
   "metadata": {},
   "outputs": [
    {
     "data": {
      "text/plain": [
       "time.struct_time(tm_year=2020, tm_mon=9, tm_mday=1, tm_hour=14, tm_min=25, tm_sec=1, tm_wday=1, tm_yday=245, tm_isdst=1)"
      ]
     },
     "execution_count": 87,
     "metadata": {},
     "output_type": "execute_result"
    }
   ],
   "source": [
    "bm[0].date\n"
   ]
  },
  {
   "cell_type": "code",
   "execution_count": 90,
   "metadata": {},
   "outputs": [
    {
     "name": "stdout",
     "output_type": "stream",
     "text": [
      "<__main__.A object at 0x7fd654707a58>\n"
     ]
    }
   ],
   "source": [
    "class A:\n",
    "    def __init__(self):\n",
    "        print(self)\n",
    "    def hey(self):\n",
    "        print('Hey!')\n",
    "\n",
    "a = A()"
   ]
  },
  {
   "cell_type": "code",
   "execution_count": 104,
   "metadata": {},
   "outputs": [
    {
     "name": "stdout",
     "output_type": "stream",
     "text": [
      "Hey!\n",
      "<__main__.A object at 0x7fd654707a58>\n"
     ]
    }
   ],
   "source": [
    "a.hey()\n",
    "print(a)"
   ]
  },
  {
   "cell_type": "code",
   "execution_count": 92,
   "metadata": {},
   "outputs": [
    {
     "ename": "TypeError",
     "evalue": "hey() missing 1 required positional argument: 'self'",
     "output_type": "error",
     "traceback": [
      "\u001b[0;31m---------------------------------------------------------------------------\u001b[0m",
      "\u001b[0;31mTypeError\u001b[0m                                 Traceback (most recent call last)",
      "\u001b[0;32m<ipython-input-92-f2c2c12bf4b2>\u001b[0m in \u001b[0;36m<module>\u001b[0;34m\u001b[0m\n\u001b[0;32m----> 1\u001b[0;31m \u001b[0mA\u001b[0m\u001b[0;34m.\u001b[0m\u001b[0mhey\u001b[0m\u001b[0;34m(\u001b[0m\u001b[0;34m)\u001b[0m\u001b[0;34m\u001b[0m\u001b[0;34m\u001b[0m\u001b[0m\n\u001b[0m",
      "\u001b[0;31mTypeError\u001b[0m: hey() missing 1 required positional argument: 'self'"
     ]
    }
   ],
   "source": [
    "A.hey()"
   ]
  },
  {
   "cell_type": "code",
   "execution_count": 98,
   "metadata": {},
   "outputs": [
    {
     "name": "stdout",
     "output_type": "stream",
     "text": [
      "<__main__.B object at 0x7fd653c01358>\n"
     ]
    }
   ],
   "source": [
    "class B:\n",
    "    def __init__(self):\n",
    "        print(self)\n",
    "    def hey(self):\n",
    "        print('Hey!')\n",
    "    \n",
    "    @classmethod\n",
    "    def x(cls):\n",
    "        print('I am a class method!')\n",
    "        print('cls:', cls)\n",
    "\n",
    "b = B()"
   ]
  },
  {
   "cell_type": "code",
   "execution_count": 99,
   "metadata": {},
   "outputs": [
    {
     "name": "stdout",
     "output_type": "stream",
     "text": [
      "Hey!\n"
     ]
    }
   ],
   "source": [
    "b.hey()\n"
   ]
  },
  {
   "cell_type": "code",
   "execution_count": 100,
   "metadata": {},
   "outputs": [
    {
     "ename": "TypeError",
     "evalue": "hey() missing 1 required positional argument: 'self'",
     "output_type": "error",
     "traceback": [
      "\u001b[0;31m---------------------------------------------------------------------------\u001b[0m",
      "\u001b[0;31mTypeError\u001b[0m                                 Traceback (most recent call last)",
      "\u001b[0;32m<ipython-input-100-aa4278ad3fe9>\u001b[0m in \u001b[0;36m<module>\u001b[0;34m\u001b[0m\n\u001b[0;32m----> 1\u001b[0;31m \u001b[0mB\u001b[0m\u001b[0;34m.\u001b[0m\u001b[0mhey\u001b[0m\u001b[0;34m(\u001b[0m\u001b[0;34m)\u001b[0m\u001b[0;34m\u001b[0m\u001b[0;34m\u001b[0m\u001b[0m\n\u001b[0m",
      "\u001b[0;31mTypeError\u001b[0m: hey() missing 1 required positional argument: 'self'"
     ]
    }
   ],
   "source": [
    "B.hey()"
   ]
  },
  {
   "cell_type": "code",
   "execution_count": 101,
   "metadata": {},
   "outputs": [
    {
     "name": "stdout",
     "output_type": "stream",
     "text": [
      "I am a class method!\n",
      "cls: <class '__main__.B'>\n"
     ]
    }
   ],
   "source": [
    "B.x()"
   ]
  },
  {
   "cell_type": "code",
   "execution_count": 103,
   "metadata": {},
   "outputs": [
    {
     "name": "stdout",
     "output_type": "stream",
     "text": [
      "I am a class method!\n",
      "cls: <class '__main__.B'>\n"
     ]
    }
   ],
   "source": [
    "b.x()"
   ]
  },
  {
   "cell_type": "code",
   "execution_count": 105,
   "metadata": {},
   "outputs": [],
   "source": [
    "\n",
    "\n",
    " class Contact:\n",
    "      def __init__(self, name):\n",
    "         # this is the constructor of new instances\n",
    "         self.name = name\n",
    "  \n",
    "      @staticmethod\n",
    "      def verify_email(email):\n",
    "         name, *domain_l = email.split('@')\n",
    "         if len(domain_l) != 1: return False\n",
    "         domain = domain_l[0]\n",
    "         domainparts = domain.split('.')\n",
    "         if len(domainparts) < 2: return False\n",
    "         return True\n",
    "        \n",
    "        "
   ]
  },
  {
   "cell_type": "code",
   "execution_count": 106,
   "metadata": {},
   "outputs": [
    {
     "data": {
      "text/plain": [
       "True"
      ]
     },
     "execution_count": 106,
     "metadata": {},
     "output_type": "execute_result"
    }
   ],
   "source": [
    "Contact.verify_email('gnyers@trebut.nl')"
   ]
  },
  {
   "cell_type": "code",
   "execution_count": 107,
   "metadata": {},
   "outputs": [],
   "source": [
    "class Contact:\n",
    "      fullname_format = '{sname}, {fname}'\n",
    "      def __init__(self, fname, sname):\n",
    "          # this is the constructor of new instances\n",
    "          self.fname = fname\n",
    "          self.sname = sname\n",
    " \n",
    "      @property\n",
    "      def fullname(self):\n",
    "          fullname = getattr(self, '_fullname', None)\n",
    "          if fullname:\n",
    "              return self._fullname\n",
    "          else:\n",
    "              return self.fullname_format.format(**self.__dict__)\n",
    " \n",
    "      @fullname.setter\n",
    "      def fullname(self, name):\n",
    "          if isinstance(name, str) and name:\n",
    "              self._fullname = name\n",
    "          else:\n",
    "              raise ValueError('I need a string here!')"
   ]
  },
  {
   "cell_type": "code",
   "execution_count": 108,
   "metadata": {},
   "outputs": [],
   "source": [
    "joe = Contact('Joe', 'Smith')"
   ]
  },
  {
   "cell_type": "code",
   "execution_count": 109,
   "metadata": {},
   "outputs": [
    {
     "data": {
      "text/plain": [
       "'Smith, Joe'"
      ]
     },
     "execution_count": 109,
     "metadata": {},
     "output_type": "execute_result"
    }
   ],
   "source": [
    "joe.fullname"
   ]
  },
  {
   "cell_type": "code",
   "execution_count": 111,
   "metadata": {},
   "outputs": [],
   "source": [
    "joe.fname = 'John'"
   ]
  },
  {
   "cell_type": "code",
   "execution_count": 112,
   "metadata": {},
   "outputs": [
    {
     "data": {
      "text/plain": [
       "'Smith, John'"
      ]
     },
     "execution_count": 112,
     "metadata": {},
     "output_type": "execute_result"
    }
   ],
   "source": [
    "joe.fullname"
   ]
  },
  {
   "cell_type": "code",
   "execution_count": 113,
   "metadata": {},
   "outputs": [],
   "source": [
    "joe.fullname = 'Jonny Boy'"
   ]
  },
  {
   "cell_type": "code",
   "execution_count": 114,
   "metadata": {},
   "outputs": [
    {
     "data": {
      "text/plain": [
       "'John'"
      ]
     },
     "execution_count": 114,
     "metadata": {},
     "output_type": "execute_result"
    }
   ],
   "source": [
    "joe.fname"
   ]
  },
  {
   "cell_type": "code",
   "execution_count": 115,
   "metadata": {},
   "outputs": [
    {
     "data": {
      "text/plain": [
       "'Smith'"
      ]
     },
     "execution_count": 115,
     "metadata": {},
     "output_type": "execute_result"
    }
   ],
   "source": [
    "joe.sname"
   ]
  },
  {
   "cell_type": "code",
   "execution_count": 116,
   "metadata": {},
   "outputs": [
    {
     "data": {
      "text/plain": [
       "'Jonny Boy'"
      ]
     },
     "execution_count": 116,
     "metadata": {},
     "output_type": "execute_result"
    }
   ],
   "source": [
    "joe.fullname"
   ]
  },
  {
   "cell_type": "code",
   "execution_count": 117,
   "metadata": {},
   "outputs": [
    {
     "ename": "ValueError",
     "evalue": "I need a string here!",
     "output_type": "error",
     "traceback": [
      "\u001b[0;31m---------------------------------------------------------------------------\u001b[0m",
      "\u001b[0;31mValueError\u001b[0m                                Traceback (most recent call last)",
      "\u001b[0;32m<ipython-input-117-a5be239b860b>\u001b[0m in \u001b[0;36m<module>\u001b[0;34m\u001b[0m\n\u001b[0;32m----> 1\u001b[0;31m \u001b[0mjoe\u001b[0m\u001b[0;34m.\u001b[0m\u001b[0mfullname\u001b[0m \u001b[0;34m=\u001b[0m \u001b[0;36m42\u001b[0m\u001b[0;34m\u001b[0m\u001b[0;34m\u001b[0m\u001b[0m\n\u001b[0m",
      "\u001b[0;32m<ipython-input-107-5f718b52d6c4>\u001b[0m in \u001b[0;36mfullname\u001b[0;34m(self, name)\u001b[0m\n\u001b[1;32m     19\u001b[0m               \u001b[0mself\u001b[0m\u001b[0;34m.\u001b[0m\u001b[0m_fullname\u001b[0m \u001b[0;34m=\u001b[0m \u001b[0mname\u001b[0m\u001b[0;34m\u001b[0m\u001b[0;34m\u001b[0m\u001b[0m\n\u001b[1;32m     20\u001b[0m           \u001b[0;32melse\u001b[0m\u001b[0;34m:\u001b[0m\u001b[0;34m\u001b[0m\u001b[0;34m\u001b[0m\u001b[0m\n\u001b[0;32m---> 21\u001b[0;31m               \u001b[0;32mraise\u001b[0m \u001b[0mValueError\u001b[0m\u001b[0;34m(\u001b[0m\u001b[0;34m'I need a string here!'\u001b[0m\u001b[0;34m)\u001b[0m\u001b[0;34m\u001b[0m\u001b[0;34m\u001b[0m\u001b[0m\n\u001b[0m",
      "\u001b[0;31mValueError\u001b[0m: I need a string here!"
     ]
    }
   ],
   "source": [
    "joe.fullname = 42"
   ]
  },
  {
   "cell_type": "code",
   "execution_count": 118,
   "metadata": {},
   "outputs": [
    {
     "ename": "ValueError",
     "evalue": "I need a string here!",
     "output_type": "error",
     "traceback": [
      "\u001b[0;31m---------------------------------------------------------------------------\u001b[0m",
      "\u001b[0;31mValueError\u001b[0m                                Traceback (most recent call last)",
      "\u001b[0;32m<ipython-input-118-b46519b8c668>\u001b[0m in \u001b[0;36m<module>\u001b[0;34m\u001b[0m\n\u001b[0;32m----> 1\u001b[0;31m \u001b[0mjoe\u001b[0m\u001b[0;34m.\u001b[0m\u001b[0mfullname\u001b[0m \u001b[0;34m=\u001b[0m \u001b[0;34m''\u001b[0m\u001b[0;34m\u001b[0m\u001b[0;34m\u001b[0m\u001b[0m\n\u001b[0m",
      "\u001b[0;32m<ipython-input-107-5f718b52d6c4>\u001b[0m in \u001b[0;36mfullname\u001b[0;34m(self, name)\u001b[0m\n\u001b[1;32m     19\u001b[0m               \u001b[0mself\u001b[0m\u001b[0;34m.\u001b[0m\u001b[0m_fullname\u001b[0m \u001b[0;34m=\u001b[0m \u001b[0mname\u001b[0m\u001b[0;34m\u001b[0m\u001b[0;34m\u001b[0m\u001b[0m\n\u001b[1;32m     20\u001b[0m           \u001b[0;32melse\u001b[0m\u001b[0;34m:\u001b[0m\u001b[0;34m\u001b[0m\u001b[0;34m\u001b[0m\u001b[0m\n\u001b[0;32m---> 21\u001b[0;31m               \u001b[0;32mraise\u001b[0m \u001b[0mValueError\u001b[0m\u001b[0;34m(\u001b[0m\u001b[0;34m'I need a string here!'\u001b[0m\u001b[0;34m)\u001b[0m\u001b[0;34m\u001b[0m\u001b[0;34m\u001b[0m\u001b[0m\n\u001b[0m",
      "\u001b[0;31mValueError\u001b[0m: I need a string here!"
     ]
    }
   ],
   "source": [
    "joe.fullname = ''"
   ]
  },
  {
   "cell_type": "markdown",
   "metadata": {},
   "source": [
    "# Ex01\n",
    "\n",
    "Ex01: (✪✪) Create the BookmarkStash.from_csv class method\n"
   ]
  },
  {
   "cell_type": "code",
   "execution_count": 155,
   "metadata": {},
   "outputs": [
    {
     "name": "stdout",
     "output_type": "stream",
     "text": [
      "Work (3)\n"
     ]
    }
   ],
   "source": [
    "import time\n",
    "\n",
    "# Ex01\n",
    "class Bookmark:\n",
    "    def __init__(self, name, url):\n",
    "        self.name = name\n",
    "        self.url = url\n",
    "        self.date = time.localtime()\n",
    "        \n",
    "    def __str__(self):\n",
    "        return self.url\n",
    "    \n",
    "    def __repr__(self):\n",
    "        return 'Bookmark(\"{}\", \"{}\")'.format(self.name, self.url)\n",
    "    \n",
    "class BookmarkStash:\n",
    "    def __init__(self, name):\n",
    "        self.name = name\n",
    "        self.content = []\n",
    "         \n",
    "    def add(self, bookmark):\n",
    "        if isinstance(bookmark, Bookmark) and bookmark.url not in self.content:\n",
    "            self.content.append(bookmark)\n",
    "        else:            \n",
    "            raise ValueError('Already there: {}'.format(bookmark.url))\n",
    "            \n",
    "    @classmethod\n",
    "    def from_csv(cls, fname):\n",
    "        try:\n",
    "            # read file content\n",
    "            bm_csv_l = open(fname, 'rt').readlines()\n",
    "            stash = cls('Imported')\n",
    "        except Exception:\n",
    "            print('Can not open {}'.format(fname))\n",
    "            return None\n",
    "        for rec in bm_csv_l[1:]:      # 1st line is header, skip!\n",
    "            name, url = rec.strip().split(';')\n",
    "            bm = Bookmark(name, url)\n",
    "            stash.add(bm)\n",
    "        return stash\n",
    "        \n",
    "    def __iter__(self):\n",
    "        return iter(self.content)\n",
    "    \n",
    "    def __str__(self):\n",
    "        return '{} ({})'.format(self.name, len(self.content))\n",
    "    \n",
    "    def __repr__(self):\n",
    "        return '<BookmarkStash \"{}\">'.format(self.__str__())\n",
    "    \n",
    "    def __len__(self):\n",
    "        return len(self.content)\n",
    "    \n",
    "    def __getitem__(self, what):\n",
    "        if isinstance(what, (int, slice)):\n",
    "            return self.content.__getitem__(what)\n",
    "        elif isinstance(what, str):\n",
    "            # required change for 2nd bullet Ex03---v\n",
    "            return [ e for e in self.content if str(e).find(what) != -1  ]\n",
    "    \n",
    "bm = BookmarkStash(name=\"Work\")\n",
    "bm.add(Bookmark('Python Home', 'https://python.org'))\n",
    "bm.add(Bookmark('WWW Consortium', 'https://w3c.org'))\n",
    "bm.add(Bookmark('Python Package Index', 'https://pypi.org'))\n",
    "print(bm)"
   ]
  },
  {
   "cell_type": "code",
   "execution_count": 156,
   "metadata": {},
   "outputs": [],
   "source": [
    "bmcsv = BookmarkStash.from_csv('09_ex01.csv')"
   ]
  },
  {
   "cell_type": "code",
   "execution_count": 157,
   "metadata": {},
   "outputs": [
    {
     "data": {
      "text/plain": [
       "<BookmarkStash \"Imported (3)\">"
      ]
     },
     "execution_count": 157,
     "metadata": {},
     "output_type": "execute_result"
    }
   ],
   "source": [
    "bmcsv\n"
   ]
  },
  {
   "cell_type": "code",
   "execution_count": 158,
   "metadata": {},
   "outputs": [
    {
     "data": {
      "text/plain": [
       "[Bookmark(\"Python Home\", \"https://www.python\"),\n",
       " Bookmark(\"Google Search Engine\", \"https://google.com\"),\n",
       " Bookmark(\"Github\", \"https://github.com\")]"
      ]
     },
     "execution_count": 158,
     "metadata": {},
     "output_type": "execute_result"
    }
   ],
   "source": [
    "list(bmcsv)"
   ]
  },
  {
   "cell_type": "code",
   "execution_count": null,
   "metadata": {},
   "outputs": [],
   "source": []
  }
 ],
 "metadata": {
  "kernelspec": {
   "display_name": "Python 3",
   "language": "python",
   "name": "python3"
  },
  "language_info": {
   "codemirror_mode": {
    "name": "ipython",
    "version": 3
   },
   "file_extension": ".py",
   "mimetype": "text/x-python",
   "name": "python",
   "nbconvert_exporter": "python",
   "pygments_lexer": "ipython3",
   "version": "3.6.10"
  }
 },
 "nbformat": 4,
 "nbformat_minor": 2
}
